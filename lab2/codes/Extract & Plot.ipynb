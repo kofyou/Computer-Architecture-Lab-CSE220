{
 "cells": [
  {
   "cell_type": "code",
   "execution_count": 41,
   "id": "5ddfdce5",
   "metadata": {},
   "outputs": [],
   "source": [
    "from typing import List"
   ]
  },
  {
   "cell_type": "code",
   "execution_count": 26,
   "id": "eecb73b1",
   "metadata": {},
   "outputs": [],
   "source": [
    "f = open('../stat_files/bp.stat.0.out')\n",
    "m = open('../stat_files/memory.stat.0.out')"
   ]
  },
  {
   "cell_type": "code",
   "execution_count": 27,
   "id": "850253ba",
   "metadata": {},
   "outputs": [],
   "source": [
    "f_lines = f.readlines()\n",
    "m_lines = m.readlines()"
   ]
  },
  {
   "cell_type": "code",
   "execution_count": 15,
   "id": "74b4fb03",
   "metadata": {},
   "outputs": [],
   "source": [
    "ipc = float(f_lines[4].split()[-1])"
   ]
  },
  {
   "cell_type": "code",
   "execution_count": 22,
   "id": "d55a8a23",
   "metadata": {},
   "outputs": [],
   "source": [
    "bp = float(f_lines[22].split()[2].replace('%', ''))"
   ]
  },
  {
   "cell_type": "code",
   "execution_count": 29,
   "id": "01d07560",
   "metadata": {},
   "outputs": [
    {
     "data": {
      "text/plain": [
       "(1.96812, 2.426)"
      ]
     },
     "execution_count": 29,
     "metadata": {},
     "output_type": "execute_result"
    }
   ],
   "source": [
    "IPC, BP"
   ]
  },
  {
   "cell_type": "code",
   "execution_count": 31,
   "id": "12074849",
   "metadata": {},
   "outputs": [],
   "source": [
    "icms = float(m_lines[6].split()[2][:-1])"
   ]
  },
  {
   "cell_type": "code",
   "execution_count": 37,
   "id": "f24627ac",
   "metadata": {},
   "outputs": [],
   "source": [
    "dcms = float(m_lines[31].split()[2][:-1])"
   ]
  },
  {
   "cell_type": "code",
   "execution_count": 39,
   "id": "24c85650",
   "metadata": {},
   "outputs": [
    {
     "data": {
      "text/plain": [
       "1.048"
      ]
     },
     "execution_count": 39,
     "metadata": {},
     "output_type": "execute_result"
    }
   ],
   "source": []
  },
  {
   "cell_type": "code",
   "execution_count": 43,
   "id": "78dc4ffe",
   "metadata": {},
   "outputs": [],
   "source": [
    "def extract_one_spec(dir_path: str) -> List[float]:\n",
    "    bp_file = open(F'{dir_path}/bp.stat.0.out')\n",
    "    mem_file = open(F'{dir_path}/memory.stat.0.out')\n",
    "    f_lines = bp_file.readlines()\n",
    "    m_lines = mem_file.readlines()\n",
    "    ipc = float(f_lines[4].split()[-1])\n",
    "    bp = float(f_lines[22].split()[2].replace('%', ''))\n",
    "    icms = float(m_lines[6].split()[2][:-1])\n",
    "    dcms = float(m_lines[31].split()[2][:-1])\n",
    "    return [ipc, bp, icms, dcms]"
   ]
  },
  {
   "cell_type": "code",
   "execution_count": 45,
   "id": "d6a432b3",
   "metadata": {},
   "outputs": [],
   "source": [
    "IPC = []\n",
    "BP_MISPRED = []\n",
    "ICACHE_MISS = []\n",
    "DCACHE_MISS = []"
   ]
  },
  {
   "cell_type": "code",
   "execution_count": 46,
   "id": "c97ee7bc",
   "metadata": {},
   "outputs": [],
   "source": [
    "for i in range(0, 20):\n",
    "    ipc, bpm, ims, dms = extract_one_spec('../stat_files')\n",
    "    IPC.append(ipc)\n",
    "    BP_MISPRED.append(bpm)\n",
    "    ICACHE_MISS.append(ims)\n",
    "    DCACHE_MISS.append(dms)"
   ]
  },
  {
   "cell_type": "code",
   "execution_count": 108,
   "id": "0693ea95",
   "metadata": {},
   "outputs": [
    {
     "data": {
      "image/png": "[encoded data removed]",
      "text/plain": [
       "<Figure size 432x288 with 1 Axes>"
      ]
     },
     "metadata": {
      "needs_background": "light"
     },
     "output_type": "display_data"
    }
   ],
   "source": [
    "import matplotlib.pyplot as plt\n",
    "import numpy as np\n",
    "\n",
    "\n",
    "specs = ['SPEC_1', 'SPEC_1', 'SPEC_3', 'SPEC_4', 'SPEC_5'] # name of every spec\n",
    "IPC_config_1 = IPC[0:5]\n",
    "IPC_config_2 = IPC[5:10]\n",
    "\n",
    "x = np.arange(len(specs))  # the label locations\n",
    "width = 0.25  # the width of the bars\n",
    "\n",
    "fig, ax = plt.subplots()\n",
    "plt.ylim((0, max(IPC_config_1) + 1))\n",
    "rects1 = ax.bar(x - width/2, IPC_config_1, width, label='config_1', in_layout=False)\n",
    "rects2 = ax.bar(x + width/2, IPC_config_2, width, label='config_2', in_layout=False)\n",
    "\n",
    "# Add some text for labels, title and custom x-axis tick labels, etc.\n",
    "ax.set_ylabel('Instruction Per Cycle')\n",
    "ax.set_title('Instrcution Per Cycle')\n",
    "ax.set_xticks(x, specs)\n",
    "ax.legend(loc='upper right')\n",
    "\n",
    "plt.show()"
   ]
  },
  {
   "cell_type": "code",
   "execution_count": 93,
   "id": "023c6647",
   "metadata": {},
   "outputs": [],
   "source": [
    "plt.subplots?"
   ]
  },
  {
   "cell_type": "code",
   "execution_count": 92,
   "id": "cdb641ea",
   "metadata": {},
   "outputs": [
    {
     "ename": "SyntaxError",
     "evalue": "invalid syntax (152260215.py, line 1)",
     "output_type": "error",
     "traceback": [
      "\u001b[0;36m  Input \u001b[0;32mIn [92]\u001b[0;36m\u001b[0m\n\u001b[0;31m    ax.?\u001b[0m\n\u001b[0m       ^\u001b[0m\n\u001b[0;31mSyntaxError\u001b[0m\u001b[0;31m:\u001b[0m invalid syntax\n"
     ]
    }
   ],
   "source": []
  },
  {
   "cell_type": "code",
   "execution_count": null,
   "id": "1faeb2a9",
   "metadata": {},
   "outputs": [],
   "source": []
  }
 ],
 "metadata": {
  "kernelspec": {
   "display_name": "Python 3 (ipykernel)",
   "language": "python",
   "name": "python3"
  },
  "language_info": {
   "codemirror_mode": {
    "name": "ipython",
    "version": 3
   },
   "file_extension": ".py",
   "mimetype": "text/x-python",
   "name": "python",
   "nbconvert_exporter": "python",
   "pygments_lexer": "ipython3",
   "version": "3.8.10"
  }
 },
 "nbformat": 4,
 "nbformat_minor": 5
}
