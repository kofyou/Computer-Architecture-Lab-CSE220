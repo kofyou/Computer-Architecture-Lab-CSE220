{
 "cells": [
  {
   "cell_type": "code",
   "execution_count": 25,
   "id": "24c85650",
   "metadata": {},
   "outputs": [],
   "source": [
    "from typing import List\n",
    "import os\n",
    "import matplotlib.pyplot as plt\n",
    "import numpy as np"
   ]
  },
  {
   "cell_type": "code",
   "execution_count": 22,
   "id": "78dc4ffe",
   "metadata": {},
   "outputs": [],
   "source": [
    "def extract_one_spec(dir_path: str) -> List[float]:\n",
    "    bp_file = open(F'{dir_path}/bp.stat.0.out')\n",
    "    mem_file = open(F'{dir_path}/memory.stat.0.out')\n",
    "    f_lines = bp_file.readlines()\n",
    "    m_lines = mem_file.readlines()\n",
    "    ipc = float(f_lines[4].split()[-1])\n",
    "    bp = float(f_lines[22].split()[2].replace('%', ''))\n",
    "    icms = float(m_lines[6].split()[2][:-1])\n",
    "    dcms = float(m_lines[31].split()[2][:-1])\n",
    "    return [ipc, bp, icms, dcms]"
   ]
  },
  {
   "cell_type": "code",
   "execution_count": 47,
   "id": "353e7283",
   "metadata": {},
   "outputs": [],
   "source": [
    "def plot_one_parameter(config_normal, config_modified, y_name, figure_name):\n",
    "    specs = [d.split('.')[1] for d in normal_dirs]\n",
    "    x = np.arange(len(specs))\n",
    "    width = 0.3\n",
    "    fig, ax = plt.subplots()\n",
    "    plt.ylim((0, max(config_normal) + 1))\n",
    "    rects1 = ax.bar(x - width/2, config_normal, width, label='Normal', in_layout=False)\n",
    "    rects2 = ax.bar(x + width/2, config_modified, width, label='Modified', in_layout=False)\n",
    "    ax.set_ylabel(y_name)\n",
    "    ax.set_title(figure_name)\n",
    "    ax.set_xticks(x, specs)\n",
    "    ax.legend(loc='upper right')\n",
    "    plt.setp(ax.get_xticklabels(), rotation=30, horizontalalignment='right')\n",
    "\n",
    "    plt.show()"
   ]
  },
  {
   "cell_type": "code",
   "execution_count": 18,
   "id": "76306cec",
   "metadata": {},
   "outputs": [],
   "source": [
    "normal_path = '/home/veteran/Computer-Architecture-Lab-CSE220/lab2/stat_files/'\n",
    "modified_path = '/home/veteran/Computer-Architecture-Lab-CSE220/lab2/stat_files/'"
   ]
  },
  {
   "cell_type": "code",
   "execution_count": 19,
   "id": "8ef61c28",
   "metadata": {},
   "outputs": [],
   "source": [
    "normal_dirs = os.listdir(base_path)\n",
    "modified_dirs = os.listdir(modified_path)"
   ]
  },
  {
   "cell_type": "code",
   "execution_count": 20,
   "id": "4d3835dd",
   "metadata": {},
   "outputs": [],
   "source": [
    "IPC = []\n",
    "BP_MISPRED = []\n",
    "ICACHE_MISS = []\n",
    "DCACHE_MISS = []"
   ]
  },
  {
   "cell_type": "code",
   "execution_count": 21,
   "id": "32fdc28b",
   "metadata": {},
   "outputs": [],
   "source": [
    "IPC_M = []\n",
    "BP_MISPRED_M = []\n",
    "ICACHE_MISS_M = []\n",
    "DCACHE_MISS_M = []"
   ]
  },
  {
   "cell_type": "code",
   "execution_count": 23,
   "id": "d6a432b3",
   "metadata": {},
   "outputs": [],
   "source": [
    "for i in range(0, len(normal_dirs)):\n",
    "    ipc, bpm, ims, dms = extract_one_spec(base_path + normal_dirs[i])\n",
    "    ipc_m, bpm_m, ims_m, dms_m = extract_one_spec(modified_path + modified_dirs[i])\n",
    "    IPC.append(ipc)\n",
    "    BP_MISPRED.append(bpm)\n",
    "    ICACHE_MISS.append(ims)\n",
    "    DCACHE_MISS.append(dms)\n",
    "    IPC_M.append(ipc_m)\n",
    "    BP_MISPRED_M.append(bpm_m)\n",
    "    ICACHE_MISS_M.append(ims_m)\n",
    "    DCACHE_MISS_M.append(dms_m)"
   ]
  },
  {
   "cell_type": "code",
   "execution_count": 48,
   "id": "60f25589",
   "metadata": {},
   "outputs": [
    {
     "data": {
      "image/png": "[encoded data removed]",
      "text/plain": [
       "<Figure size 432x288 with 1 Axes>"
      ]
     },
     "metadata": {
      "needs_background": "light"
     },
     "output_type": "display_data"
    }
   ],
   "source": [
    "plot_one_parameter(ICACHE_MISS, ICACHE_MISS_M, 'ICache Miss Rate %', 'ICache Miss')"
   ]
  },
  {
   "cell_type": "code",
   "execution_count": 46,
   "id": "1faeb2a9",
   "metadata": {},
   "outputs": [],
   "source": [
    "ax.legend?"
   ]
  },
  {
   "cell_type": "code",
   "execution_count": null,
   "id": "d1991b84",
   "metadata": {},
   "outputs": [],
   "source": []
  }
 ],
 "metadata": {
  "kernelspec": {
   "display_name": "Python 3 (ipykernel)",
   "language": "python",
   "name": "python3"
  },
  "language_info": {
   "codemirror_mode": {
    "name": "ipython",
    "version": 3
   },
   "file_extension": ".py",
   "mimetype": "text/x-python",
   "name": "python",
   "nbconvert_exporter": "python",
   "pygments_lexer": "ipython3",
   "version": "3.8.10"
  }
 },
 "nbformat": 4,
 "nbformat_minor": 5
}
